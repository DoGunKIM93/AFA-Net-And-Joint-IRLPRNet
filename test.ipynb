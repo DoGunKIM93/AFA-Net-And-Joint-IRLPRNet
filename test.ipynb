{
 "cells": [
  {
   "cell_type": "code",
   "execution_count": 64,
   "metadata": {
    "tags": []
   },
   "outputs": [
    {
     "output_type": "stream",
     "name": "stdout",
     "text": "model : 1.3.200624\nparam : 1.34.200703\ntest : None\ndata_loader : 1.58.200707\nbackbone.module : 1.12.200708\nbackbone.preprocessing : 1.0.200706\nbackbone.vision : 1.73.200706\nbackbone.config : 1.0.200709\nbackbone.utils : 1.32.200708\nbackbone.structure : 1.0.200508\n"
    },
    {
     "output_type": "execute_result",
     "data": {
      "text/plain": "False"
     },
     "metadata": {},
     "execution_count": 64
    }
   ],
   "source": [
    "from importlib import import_module\n",
    "import os\n",
    "\n",
    "\n",
    "\n",
    "\n",
    "pyModuleStrList = list(x[:-3] for x in os.listdir('.') if x != 'main.py' and x != 'edit.py' and x != 'all_new_data_loader.py' and x.endswith('.py')) + list(f'backbone.{x[:-3]}' for x in os.listdir('./backbone') if x.endswith('.py')) \n",
    "\n",
    "versionDict = list(map(lambda mdlStr, mdlObj: [mdlStr, mdlObj.version] if 'version' in dir(mdlObj) else [mdlStr, None], \n",
    "             pyModuleStrList, \n",
    "             list(map(import_module, pyModuleStrList)) ))\n",
    "\n",
    "any(print(f'{key} : {val}') for key, val in versionDict)\n",
    "\n",
    "\n",
    "\n",
    "#pyModuleStrList\n",
    "#pyModuleObjList\n",
    "#any(print(x) for x in pyModuleStrList)\n",
    "#mdl = importlib.import_module(moduleList[0])\n",
    "\n",
    "#mdl.version\n",
    "#dict(x for x in inspect.getmembers(backbone.preprocessing) if (not x[0].startswith('__')) and (inspect.isclass(x[1])) )"
   ]
  },
  {
   "cell_type": "code",
   "execution_count": null,
   "metadata": {},
   "outputs": [],
   "source": []
  }
 ],
 "metadata": {
  "language_info": {
   "codemirror_mode": {
    "name": "ipython",
    "version": 3
   },
   "file_extension": ".py",
   "mimetype": "text/x-python",
   "name": "python",
   "nbconvert_exporter": "python",
   "pygments_lexer": "ipython3",
   "version": "3.6.10-final"
  },
  "orig_nbformat": 2,
  "kernelspec": {
   "name": "python361064bitffeb4727388546bbb13e73920f08aa1f",
   "display_name": "Python 3.6.10 64-bit"
  }
 },
 "nbformat": 4,
 "nbformat_minor": 2
}